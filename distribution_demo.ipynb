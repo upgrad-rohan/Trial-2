{
 "cells": [
  {
   "cell_type": "code",
   "execution_count": 1,
   "metadata": {},
   "outputs": [],
   "source": [
    "import csv\n",
    "import os \n",
    "import numpy as np\n",
    "import statistics \n",
    "import matplotlib.pyplot as plt \n",
    "import pandas as pd \n",
    "from scipy.stats.stats import pearsonr"
   ]
  },
  {
   "cell_type": "markdown",
   "metadata": {},
   "source": [
    "## Importance of Data Visualisation"
   ]
  },
  {
   "cell_type": "markdown",
   "metadata": {},
   "source": [
    "Along with this notebook there are 5 differnet csv files. Each with two collumns of data. Given below is an example of the away data set. "
   ]
  },
  {
   "cell_type": "code",
   "execution_count": 2,
   "metadata": {
    "scrolled": false
   },
   "outputs": [
    {
     "data": {
      "text/html": [
       "<div>\n",
       "<style scoped>\n",
       "    .dataframe tbody tr th:only-of-type {\n",
       "        vertical-align: middle;\n",
       "    }\n",
       "\n",
       "    .dataframe tbody tr th {\n",
       "        vertical-align: top;\n",
       "    }\n",
       "\n",
       "    .dataframe thead th {\n",
       "        text-align: right;\n",
       "    }\n",
       "</style>\n",
       "<table border=\"1\" class=\"dataframe\">\n",
       "  <thead>\n",
       "    <tr style=\"text-align: right;\">\n",
       "      <th></th>\n",
       "      <th>x</th>\n",
       "      <th>y</th>\n",
       "    </tr>\n",
       "  </thead>\n",
       "  <tbody>\n",
       "    <tr>\n",
       "      <th>0</th>\n",
       "      <td>32.331110</td>\n",
       "      <td>61.411101</td>\n",
       "    </tr>\n",
       "    <tr>\n",
       "      <th>1</th>\n",
       "      <td>53.421463</td>\n",
       "      <td>26.186880</td>\n",
       "    </tr>\n",
       "    <tr>\n",
       "      <th>2</th>\n",
       "      <td>63.920202</td>\n",
       "      <td>30.832194</td>\n",
       "    </tr>\n",
       "    <tr>\n",
       "      <th>3</th>\n",
       "      <td>70.289506</td>\n",
       "      <td>82.533649</td>\n",
       "    </tr>\n",
       "    <tr>\n",
       "      <th>4</th>\n",
       "      <td>34.118830</td>\n",
       "      <td>45.734551</td>\n",
       "    </tr>\n",
       "    <tr>\n",
       "      <th>...</th>\n",
       "      <td>...</td>\n",
       "      <td>...</td>\n",
       "    </tr>\n",
       "    <tr>\n",
       "      <th>137</th>\n",
       "      <td>59.851838</td>\n",
       "      <td>72.958391</td>\n",
       "    </tr>\n",
       "    <tr>\n",
       "      <th>138</th>\n",
       "      <td>48.960460</td>\n",
       "      <td>72.629526</td>\n",
       "    </tr>\n",
       "    <tr>\n",
       "      <th>139</th>\n",
       "      <td>46.844855</td>\n",
       "      <td>36.791714</td>\n",
       "    </tr>\n",
       "    <tr>\n",
       "      <th>140</th>\n",
       "      <td>39.963022</td>\n",
       "      <td>42.944915</td>\n",
       "    </tr>\n",
       "    <tr>\n",
       "      <th>141</th>\n",
       "      <td>66.704944</td>\n",
       "      <td>32.015095</td>\n",
       "    </tr>\n",
       "  </tbody>\n",
       "</table>\n",
       "<p>142 rows × 2 columns</p>\n",
       "</div>"
      ],
      "text/plain": [
       "             x          y\n",
       "0    32.331110  61.411101\n",
       "1    53.421463  26.186880\n",
       "2    63.920202  30.832194\n",
       "3    70.289506  82.533649\n",
       "4    34.118830  45.734551\n",
       "..         ...        ...\n",
       "137  59.851838  72.958391\n",
       "138  48.960460  72.629526\n",
       "139  46.844855  36.791714\n",
       "140  39.963022  42.944915\n",
       "141  66.704944  32.015095\n",
       "\n",
       "[142 rows x 2 columns]"
      ]
     },
     "execution_count": 2,
     "metadata": {},
     "output_type": "execute_result"
    }
   ],
   "source": [
    "data = pd.read_csv(\"away.csv\")\n",
    "data"
   ]
  },
  {
   "cell_type": "markdown",
   "metadata": {},
   "source": [
    "Each column is a feature of the data and each row is a unique data point. \n",
    "\n",
    "All the 5 data sets are silimar. If you had to compare them to each other, most probabily would would use summary statistics like mean, median, standard deviation right? \n",
    "\n",
    "Let's compair them to see what happens. "
   ]
  },
  {
   "cell_type": "code",
   "execution_count": 3,
   "metadata": {
    "scrolled": false
   },
   "outputs": [
    {
     "name": "stdout",
     "output_type": "stream",
     "text": [
      "x Mean, Median and StDev \n",
      "   54.2661    53.3403    16.7698\n",
      "Y Mean, Median and StDev \n",
      "   47.8347    47.5353    26.9397\n"
     ]
    },
    {
     "data": {
      "text/plain": [
       "<matplotlib.collections.PathCollection at 0x2ab64ca8b08>"
      ]
     },
     "execution_count": 3,
     "metadata": {},
     "output_type": "execute_result"
    },
    {
     "data": {
      "image/png": "[encoded data removed]",
      "text/plain": [
       "<Figure size 432x288 with 1 Axes>"
      ]
     },
     "metadata": {
      "needs_background": "light"
     },
     "output_type": "display_data"
    }
   ],
   "source": [
    "data = pd.read_csv(\"away.csv\")\n",
    "print(\"x Mean, Median and StDev \")\n",
    "print(\"%10.4f\" % statistics.mean(data['x']),\"%10.4f\" % statistics.median(data['x']), \"%10.4f\" % statistics.stdev(data['x']))\n",
    "print(\"Y Mean, Median and StDev \")\n",
    "print(\"%10.4f\" % statistics.mean(data['y']),\"%10.4f\" % statistics.median(data['y']), \"%10.4f\" % statistics.stdev(data['y']))\n",
    "plt.scatter(data['x'], data['y'])"
   ]
  },
  {
   "cell_type": "markdown",
   "metadata": {},
   "source": [
    "### Observations \n",
    "\n",
    "Nothing interesting about this plot yet. The datapoints are all spread around. \n",
    "\n",
    "###### Summary Statistics \n",
    "1. Mean = <font color='red'>54.26</font> \n",
    "2. Median = <font color='red'>53.34</font>\n",
    "3. Standard deviation = <font color='red'>16.76</font>"
   ]
  },
  {
   "cell_type": "code",
   "execution_count": 4,
   "metadata": {},
   "outputs": [
    {
     "name": "stdout",
     "output_type": "stream",
     "text": [
      "x Mean, Median and StDev \n",
      "   54.2603    50.9768    16.7677\n",
      "Y Mean, Median and StDev \n",
      "   47.8398    51.2993    26.9302\n"
     ]
    },
    {
     "data": {
      "text/plain": [
       "<matplotlib.collections.PathCollection at 0x2ab6790fb48>"
      ]
     },
     "execution_count": 4,
     "metadata": {},
     "output_type": "execute_result"
    },
    {
     "data": {
      "image/png": "[encoded data removed]",
      "text/plain": [
       "<Figure size 432x288 with 1 Axes>"
      ]
     },
     "metadata": {
      "needs_background": "light"
     },
     "output_type": "display_data"
    }
   ],
   "source": [
    "data = pd.read_csv(\"dots.csv\")\n",
    "data\n",
    "print(\"x Mean, Median and StDev \")\n",
    "print(\"%10.4f\" % statistics.mean(data['x']),\"%10.4f\" % statistics.median(data['x']), \"%10.4f\" % statistics.stdev(data['x']))\n",
    "print(\"Y Mean, Median and StDev \")\n",
    "print(\"%10.4f\" % statistics.mean(data['y']),\"%10.4f\" % statistics.median(data['y']), \"%10.4f\" % statistics.stdev(data['y']))\n",
    "plt.scatter(data['x'], data['y'])"
   ]
  },
  {
   "cell_type": "markdown",
   "metadata": {},
   "source": [
    "### Observations \n",
    "\n",
    "The plot is simply nine dots. But the summary statistics are very close to the earlier plot.  \n",
    "\n",
    "###### Summary Statistics \n",
    "1. Mean = <font color='red'>54.26</font> \n",
    "2. Median = <font color='red'>50.97</font>\n",
    "3. Standard deviation = <font color='red'>16.76</font>"
   ]
  },
  {
   "cell_type": "code",
   "execution_count": 5,
   "metadata": {},
   "outputs": [
    {
     "name": "stdout",
     "output_type": "stream",
     "text": [
      "x Mean, Median and StDev \n",
      "   54.2687    53.8421    16.7692\n",
      "Y Mean, Median and StDev \n",
      "   47.8308    47.3829    26.9357\n"
     ]
    },
    {
     "data": {
      "text/plain": [
       "<matplotlib.collections.PathCollection at 0x2ab679882c8>"
      ]
     },
     "execution_count": 5,
     "metadata": {},
     "output_type": "execute_result"
    },
    {
     "data": {
      "image/png": "[encoded data removed]",
      "text/plain": [
       "<Figure size 432x288 with 1 Axes>"
      ]
     },
     "metadata": {
      "needs_background": "light"
     },
     "output_type": "display_data"
    }
   ],
   "source": [
    "data = pd.read_csv(\"bulls_eye.csv\")\n",
    "data\n",
    "print(\"x Mean, Median and StDev \")\n",
    "print(\"%10.4f\" % statistics.mean(data['x']),\"%10.4f\" % statistics.median(data['x']), \"%10.4f\" % statistics.stdev(data['x']))\n",
    "print(\"Y Mean, Median and StDev \")\n",
    "print(\"%10.4f\" % statistics.mean(data['y']),\"%10.4f\" % statistics.median(data['y']), \"%10.4f\" % statistics.stdev(data['y']))\n",
    "plt.scatter(data['x'], data['y'])"
   ]
  },
  {
   "cell_type": "markdown",
   "metadata": {},
   "source": [
    "### Observations \n",
    "\n",
    "Same! the visualisation of data changes quite a lot but the stats are extremely close.   \n",
    "\n",
    "###### Summary Statistics \n",
    "1. Mean = <font color='red'>54.26</font> \n",
    "2. Median = <font color='red'>53.84</font>\n",
    "3. Standard deviation = <font color='red'>16.76</font>"
   ]
  },
  {
   "cell_type": "code",
   "execution_count": 6,
   "metadata": {},
   "outputs": [
    {
     "name": "stdout",
     "output_type": "stream",
     "text": [
      "x Mean, Median and StDev \n",
      "   54.2673    56.5347    16.7690\n",
      "Y Mean, Median and StDev \n",
      "   47.8395    50.1106    26.9303\n"
     ]
    },
    {
     "data": {
      "text/plain": [
       "<matplotlib.collections.PathCollection at 0x2ab679f3e88>"
      ]
     },
     "execution_count": 6,
     "metadata": {},
     "output_type": "execute_result"
    },
    {
     "data": {
      "image/png": "[encoded data removed]",
      "text/plain": [
       "<Figure size 432x288 with 1 Axes>"
      ]
     },
     "metadata": {
      "needs_background": "light"
     },
     "output_type": "display_data"
    }
   ],
   "source": [
    "data = pd.read_csv(\"star.csv\")\n",
    "data\n",
    "print(\"x Mean, Median and StDev \")\n",
    "print(\"%10.4f\" % statistics.mean(data['x']),\"%10.4f\" % statistics.median(data['x']), \"%10.4f\" % statistics.stdev(data['x']))\n",
    "print(\"Y Mean, Median and StDev \")\n",
    "print(\"%10.4f\" % statistics.mean(data['y']),\"%10.4f\" % statistics.median(data['y']), \"%10.4f\" % statistics.stdev(data['y']))\n",
    "plt.scatter(data['x'], data['y'])"
   ]
  },
  {
   "cell_type": "markdown",
   "metadata": {},
   "source": [
    "### Observations \n",
    "\n",
    "Start with same stats  \n",
    "\n",
    "###### Summary Statistics \n",
    "1. Mean = <font color='red'>54.26</font> \n",
    "2. Median = <font color='red'>56.53</font>\n",
    "3. Standard deviation = <font color='red'>16.76</font>"
   ]
  },
  {
   "cell_type": "markdown",
   "metadata": {},
   "source": [
    "And the last one!!! "
   ]
  },
  {
   "cell_type": "code",
   "execution_count": 7,
   "metadata": {},
   "outputs": [
    {
     "name": "stdout",
     "output_type": "stream",
     "text": [
      "x Mean, Median and StDev \n",
      "   54.2633    53.3333    16.7651\n",
      "Y Mean, Median and StDev \n",
      "   47.8323    46.0256    26.9354\n"
     ]
    },
    {
     "data": {
      "text/plain": [
       "<matplotlib.collections.PathCollection at 0x2ab67a63688>"
      ]
     },
     "execution_count": 7,
     "metadata": {},
     "output_type": "execute_result"
    },
    {
     "data": {
      "image/png": "[encoded data removed]",
      "text/plain": [
       "<Figure size 432x288 with 1 Axes>"
      ]
     },
     "metadata": {
      "needs_background": "light"
     },
     "output_type": "display_data"
    }
   ],
   "source": [
    "data = pd.read_csv(\"dino.csv\")\n",
    "data\n",
    "print(\"x Mean, Median and StDev \")\n",
    "print(\"%10.4f\" % statistics.mean(data['x']),\"%10.4f\" % statistics.median(data['x']), \"%10.4f\" % statistics.stdev(data['x']))\n",
    "print(\"Y Mean, Median and StDev \")\n",
    "print(\"%10.4f\" % statistics.mean(data['y']),\"%10.4f\" % statistics.median(data['y']), \"%10.4f\" % statistics.stdev(data['y']))\n",
    "plt.scatter(data['x'], data['y'])"
   ]
  },
  {
   "cell_type": "markdown",
   "metadata": {},
   "source": [
    "## Conclusion \n",
    "\n",
    "Always plot your data. \n",
    "Simply looking at summary statistics can be misleading. "
   ]
  }
 ],
 "metadata": {
  "kernelspec": {
   "display_name": "Python 3",
   "language": "python",
   "name": "python3"
  },
  "language_info": {
   "codemirror_mode": {
    "name": "ipython",
    "version": 3
   },
   "file_extension": ".py",
   "mimetype": "text/x-python",
   "name": "python",
   "nbconvert_exporter": "python",
   "pygments_lexer": "ipython3",
   "version": "3.7.6"
  }
 },
 "nbformat": 4,
 "nbformat_minor": 4
}
